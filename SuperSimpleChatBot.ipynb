{
 "cells": [
  {
   "cell_type": "markdown",
   "id": "ceefdf9e",
   "metadata": {},
   "source": [
    "# <center>30 minutes or less to a Simple Chatbot</center> "
   ]
  },
  {
   "cell_type": "markdown",
   "id": "8c559480",
   "metadata": {},
   "source": [
    "### The goal is to get a simple chatbot up and running in less than 30 minutes. You will need to have the openai module installed in your python environment, a valid OpenAI API key, and minimal coding skills. "
   ]
  },
  {
   "cell_type": "markdown",
   "id": "9c6df3ac",
   "metadata": {},
   "source": [
    " "
   ]
  },
  {
   "cell_type": "markdown",
   "id": "5e50ebd1",
   "metadata": {},
   "source": [
    "##### The first three code cells are a little bit of setup. You start by creating a simple directory structure to hold some files. Then, you create an empty init file to allow python to see the code modules it will eventually contain. Finally, you will fill in your OpenAI API key and store it in a config file. Uncomment the lines below, replace the <> brackets with your api key (as a string). Run the three cells. Make sure to protect your api key, it may be located in multiple places."
   ]
  },
  {
   "cell_type": "markdown",
   "id": "549ebac8",
   "metadata": {},
   "source": [
    "##### Create the py_files directory. The ! tells the notebook to run it in the command line. "
   ]
  },
  {
   "cell_type": "code",
   "execution_count": 1,
   "id": "180bc30d",
   "metadata": {},
   "outputs": [],
   "source": [
    "#!mkdir py_files"
   ]
  },
  {
   "cell_type": "markdown",
   "id": "ff6ef6c0",
   "metadata": {},
   "source": [
    "##### Create an empty __init__.py file using context manager."
   ]
  },
  {
   "cell_type": "code",
   "execution_count": 2,
   "id": "6029e98c",
   "metadata": {},
   "outputs": [],
   "source": [
    "#with open('py_files/__init__.py', 'w') as init_file:\n",
    "    #init_file.write('')"
   ]
  },
  {
   "cell_type": "markdown",
   "id": "0973cd33",
   "metadata": {},
   "source": [
    "##### Replace the <> brackets with your api key, and save it to the config file, again use the context manager."
   ]
  },
  {
   "cell_type": "code",
   "execution_count": 3,
   "id": "915300be",
   "metadata": {},
   "outputs": [],
   "source": [
    "#OPENAI_API_KEY = <YOUR OPENAI APIKEY>\n",
    "#with open('py_files/config.py', 'w') as key_file:\n",
    "    #key_file.write('OPENAI_API_KEY = \"{}\"'.format(OPENAI_API_KEY))"
   ]
  },
  {
   "cell_type": "markdown",
   "id": "4c6471dd",
   "metadata": {},
   "source": [
    "##### The next step is to generate some text which ChatGPT will use to provide a response. Some starters have been provided for the chat bot to be a simple question answering bot. Later on, you are encouraged to play with the context, text, and query parameters. Remember, you are charged by the number of tokens used, a token is approximately .75 times the number of words (check the OpenAI website for pricing). This version of the chat bot sends the entire text field to ChatGPT. Finally, be sure to follow all of OpenAI's policies."
   ]
  },
  {
   "cell_type": "code",
   "execution_count": 4,
   "id": "171c1a6f",
   "metadata": {},
   "outputs": [],
   "source": [
    "text = '''we are open from 7am through 9pm \n",
    "the address is 123 Riverside Rd San Francisco CA 90120\n",
    "the shipping address is the same as the address\n",
    "our phone number is (123)867-5309\n",
    "the company is Acme AI'''"
   ]
  },
  {
   "cell_type": "markdown",
   "id": "5fea9b0c",
   "metadata": {},
   "source": [
    "##### Now you give the bot some context. Context is how you would like to bot to behave. This is where you can get creative. For instance, you can have the bot answer like a pirate (uncomment the last line for pirate behavior). We have made this bot answer as if it is a company employee."
   ]
  },
  {
   "cell_type": "code",
   "execution_count": 5,
   "id": "7d4c6f19",
   "metadata": {},
   "outputs": [],
   "source": [
    "context = '''You are a helpful question answering bot. You will be given some text and a question. \n",
    "Answer the question using the text. If the question is not answerable from the text, then inform \n",
    "the user that you are unsure of the answer. Always inform the user that you are a chatbot but, answer as if you\n",
    "are an employee of the company. '''\n",
    "#context += 'Answer as if you were a pirate!'"
   ]
  },
  {
   "cell_type": "markdown",
   "id": "51f91f7f",
   "metadata": {},
   "source": [
    "##### The next cell saves the answers and context for later use. Always run the next 2 cells if you change the text or context."
   ]
  },
  {
   "cell_type": "code",
   "execution_count": 6,
   "id": "3448e156",
   "metadata": {},
   "outputs": [],
   "source": [
    "#Save the text to a file\n",
    "with open('text.txt', 'w') as f:\n",
    "    f.write(text)\n",
    "    \n",
    "#Save the text to a file\n",
    "with open('context.txt', 'w') as f:\n",
    "    f.write(context)"
   ]
  },
  {
   "cell_type": "markdown",
   "id": "bdd5b310",
   "metadata": {},
   "source": [
    "##### Finally, we save the following cell to a file called chat.py in our py_files directory. The %% tells the notebook to use the magic command over the entire cell. We will discuss the parameters following this cell."
   ]
  },
  {
   "cell_type": "code",
   "execution_count": 7,
   "id": "a9f9b45d",
   "metadata": {},
   "outputs": [
    {
     "name": "stdout",
     "output_type": "stream",
     "text": [
      "Writing py_files/chat.py\n"
     ]
    }
   ],
   "source": [
    "%%writefile py_files/chat.py\n",
    "\n",
    "\n",
    "from openai import OpenAI\n",
    "from py_files import config\n",
    "\n",
    "client = OpenAI(\n",
    "    api_key=str(config.OPENAI_API_KEY),\n",
    ")\n",
    "\n",
    "def main(query: str) -> str:\n",
    "    with open('text.txt', 'r') as text_file:\n",
    "        text = text_file.read()\n",
    "    with open('context.txt', 'r') as context_file:\n",
    "        context = context_file.read()\n",
    "    message = [{'role': 'system', 'content': context\n",
    "               }]\n",
    "    if query:\n",
    "        query_w_text = f'{query}. Here is the text: {text}'\n",
    "        message.append({\"role\": \"user\", \"content\": query_w_text})\n",
    "        chat = client.chat.completions.create(model=\"gpt-3.5-turbo\",\n",
    "                                                  temperature=0.0,\n",
    "                                                  messages=message)\n",
    "        reply = chat.choices[0].message.content\n",
    "    else:\n",
    "        reply = \"You have failed to make an inquiry\"\n",
    "    return reply"
   ]
  },
  {
   "cell_type": "markdown",
   "id": "a27b798f",
   "metadata": {},
   "source": [
    "##### So whats going on in the main function? First we get the text and context that we previously saved to disk. Then, we build a message using context, this tells the chat bot how to behave. If there is a query, we package up the query and the text to send to the api along with the context message.  In the call to client.chat.completions.create we specify the model and temperature. For this demonstration we use the gpt-3.5-turbo model. The temperature parameter influences the creativity and randomness of the answer. We have set the temperature to 0, but feel free to change it to see how the bot responds (between 0 and 1).  And finally, we extract the answer and return it."
   ]
  },
  {
   "cell_type": "markdown",
   "id": "67a94f36",
   "metadata": {},
   "source": [
    "### Now we can import the bot and give it a spin"
   ]
  },
  {
   "cell_type": "code",
   "execution_count": 8,
   "id": "628c8e61",
   "metadata": {},
   "outputs": [],
   "source": [
    "#import the newly created bot\n",
    "from py_files import chat"
   ]
  },
  {
   "cell_type": "code",
   "execution_count": 9,
   "id": "3a202a32",
   "metadata": {},
   "outputs": [
    {
     "name": "stdout",
     "output_type": "stream",
     "text": [
      "I am a chatbot assistant for Acme AI. Our shipping address is 123 Riverside Rd, San Francisco, CA 90120. Our business hours are from 7am through 9pm. If you have any further questions, feel free to ask!\n"
     ]
    }
   ],
   "source": [
    "#ask a question and get an answer\n",
    "query = 'What is your shipping address'\n",
    "print(chat.main(query))"
   ]
  },
  {
   "cell_type": "markdown",
   "id": "c36c1956",
   "metadata": {},
   "source": [
    "## And that's it. You now have a simple chat bot to start you on your generative AI journey."
   ]
  },
  {
   "cell_type": "markdown",
   "id": "4739fc27",
   "metadata": {},
   "source": [
    "### What next? Try changing the context, text, and query. Be sure to save the context and text to file. Also, rewrite the chat.py file. Here are some ideas:\n",
    "#### context: you are a childrens author, write the next paragraph based on the supplied text.\n",
    "#### text: little george was on his way home when he met a fairy.\n",
    "#### query: finish the story from the text provided.\n",
    "### Or\n",
    "#### context: You are an inspiring travel blogger. Generate 3 hashtags about the following destination and activity.\n",
    "#### text: The Cayman Islands\n",
    "#### query: I want to go snorkeling."
   ]
  },
  {
   "cell_type": "code",
   "execution_count": null,
   "id": "c520c3a0",
   "metadata": {},
   "outputs": [],
   "source": []
  }
 ],
 "metadata": {
  "kernelspec": {
   "display_name": "Python [conda env:py_3.9]",
   "language": "python",
   "name": "conda-env-py_3.9-py"
  },
  "language_info": {
   "codemirror_mode": {
    "name": "ipython",
    "version": 3
   },
   "file_extension": ".py",
   "mimetype": "text/x-python",
   "name": "python",
   "nbconvert_exporter": "python",
   "pygments_lexer": "ipython3",
   "version": "3.9.19"
  }
 },
 "nbformat": 4,
 "nbformat_minor": 5
}
