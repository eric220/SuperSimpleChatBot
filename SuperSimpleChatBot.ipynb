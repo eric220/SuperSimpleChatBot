{
 "cells": [
  {
   "cell_type": "markdown",
   "id": "ceefdf9e",
   "metadata": {},
   "source": [
    "## <center>30 minutes or less to a Simple Chatbot</center> "
   ]
  },
  {
   "cell_type": "markdown",
   "id": "8c559480",
   "metadata": {},
   "source": [
    "### The goal is to get a simple question answering chatbot up and running in less than 30 minutes. You will need to have the openai module installed in your environment and a valid OpenAI API key, and minimal coding skills. "
   ]
  },
  {
   "cell_type": "markdown",
   "id": "9c6df3ac",
   "metadata": {},
   "source": [
    " "
   ]
  },
  {
   "cell_type": "markdown",
   "id": "5e50ebd1",
   "metadata": {},
   "source": [
    "#### The first step is some setup. We will start by making a simple directory structure to hold files. Then, you will need your OpenAI API key. Uncomment the lines below, fill in the <> brackets with your api key, and run the cell. Make sure to protect your api key, it may be located both in this notebook and the config file."
   ]
  },
  {
   "cell_type": "code",
   "execution_count": 1,
   "id": "915300be",
   "metadata": {},
   "outputs": [],
   "source": [
    "#!mkdir py_files\n",
    "#with open('py_files/__init__.py', 'w') as init_file:\n",
    "    #init_file.write(' ')\n",
    "\n",
    "#OPENAI_API_KEY = <YOUR OPENAI APIKEY>\n",
    "#with open('py_files/config.py', 'w') as key_file:\n",
    "    #key_file.write('OPENAI_API_KEY = \"{}\"'.format(OPENAI_API_KEY))"
   ]
  },
  {
   "cell_type": "markdown",
   "id": "4c6471dd",
   "metadata": {},
   "source": [
    "#### The second step is to generate some text from which ChatGPT will provide answers. Some starters have been provided, but you are able to provide any answers to your own set of questions. Remember, you are charged by the number of tokens used (approximately .75 times the number of words). This version of the chat bot sends the entire text field to ChatGPT. Be sure to follow all of OpenAI's policies."
   ]
  },
  {
   "cell_type": "code",
   "execution_count": 2,
   "id": "171c1a6f",
   "metadata": {},
   "outputs": [],
   "source": [
    "text = '''we are open from 7am through 9pm \n",
    "the address is 123 Riverside Rd San Francisco CA 90120\n",
    "the shipping address is the same as the address\n",
    "our phone number is (123)867-5309\n",
    "the company is Acme AI'''"
   ]
  },
  {
   "cell_type": "markdown",
   "id": "5fea9b0c",
   "metadata": {},
   "source": [
    "#### Next give the bot some context. This is where you can get creative, have the bot answer like a pirate. We have made it answer as a company employee."
   ]
  },
  {
   "cell_type": "code",
   "execution_count": 3,
   "id": "7d4c6f19",
   "metadata": {},
   "outputs": [],
   "source": [
    "context = '''You are a helpful question answering bot. You will be given some text and a question. \n",
    "Answer the question using the text. If the question is not answerable from the text, then inform \n",
    "the user that you are unsure of the answer. Always inform the user that you are a chatbot but, answer as if you\n",
    "are an employee of the company. Also, answer like a pirate'''"
   ]
  },
  {
   "cell_type": "markdown",
   "id": "51f91f7f",
   "metadata": {},
   "source": [
    "#### The next cell saves the answers and context for later use."
   ]
  },
  {
   "cell_type": "code",
   "execution_count": 4,
   "id": "3448e156",
   "metadata": {},
   "outputs": [],
   "source": [
    "#Save the text to a file\n",
    "with open('text.txt', 'w') as f:\n",
    "    f.write(text)\n",
    "    \n",
    "#Save the text to a file\n",
    "with open('context.txt', 'w') as f:\n",
    "    f.write(context)"
   ]
  },
  {
   "cell_type": "markdown",
   "id": "bdd5b310",
   "metadata": {},
   "source": [
    "#### Finally, we save the following cell to a file called chat.py. "
   ]
  },
  {
   "cell_type": "code",
   "execution_count": 5,
   "id": "a9f9b45d",
   "metadata": {},
   "outputs": [
    {
     "name": "stdout",
     "output_type": "stream",
     "text": [
      "Writing py_files/chat.py\n"
     ]
    }
   ],
   "source": [
    "%%writefile py_files/chat.py\n",
    "\n",
    "from openai import OpenAI\n",
    "from py_files import config\n",
    "\n",
    "client = OpenAI(\n",
    "    api_key=str(config.OPENAI_API_KEY),\n",
    ")\n",
    "\n",
    "def main(query):\n",
    "    with open('context.txt', 'r') as c:\n",
    "        context = c.read()\n",
    "    with open('text.txt', 'r') as a:\n",
    "        text = a.read()\n",
    "    message = [{'role': 'system', 'content': context\n",
    "               }]\n",
    "    if query:\n",
    "        query_w_text = f'{query}. Here is the text: {text}'\n",
    "        message.append({\"role\": \"user\", \"content\": query_w_text})\n",
    "        chat = client.chat.completions.create(model=\"gpt-3.5-turbo\",\n",
    "                                                  temperature=0.0,\n",
    "                                                  messages=message)\n",
    "    else:\n",
    "        pass\n",
    "    reply = chat.choices[0].message.content\n",
    "    return reply"
   ]
  },
  {
   "cell_type": "markdown",
   "id": "67a94f36",
   "metadata": {},
   "source": [
    "### Now import the app and give it a spin"
   ]
  },
  {
   "cell_type": "code",
   "execution_count": 6,
   "id": "628c8e61",
   "metadata": {},
   "outputs": [],
   "source": [
    "#import the new app\n",
    "from py_files import chat"
   ]
  },
  {
   "cell_type": "code",
   "execution_count": 7,
   "id": "3a202a32",
   "metadata": {},
   "outputs": [
    {
     "name": "stdout",
     "output_type": "stream",
     "text": [
      "I am a chatbot and I am here to help you. The shipping address for Acme AI is 123 Riverside Rd, San Francisco, CA 90120.\n"
     ]
    }
   ],
   "source": [
    "#ask a question and get an answer\n",
    "query = 'What is your shipping address'\n",
    "print(chat.main(query))"
   ]
  },
  {
   "cell_type": "markdown",
   "id": "c36c1956",
   "metadata": {},
   "source": [
    "## And that's it. You now have a simple chat bot to start you on your generative AI journey."
   ]
  },
  {
   "cell_type": "markdown",
   "id": "4739fc27",
   "metadata": {},
   "source": [
    "### What next? Try changing the context, text, and query. Be sure to save the context and text to file. Also, rewrite the chat.py file. Here are some ideas:\n",
    "#### context: you are a childrens author, write the next paragraph based on the supplied text.\n",
    "#### text: little george was on his way home when he met a fairy.\n",
    "#### query: finish the story from the text provided.\n",
    "### Or\n",
    "#### context: You are an inspiring travel blogger. Generate 3 hashtags about the following destination and activity.\n",
    "#### text: The Cayman Islands\n",
    "#### query: I want to go snorkeling."
   ]
  },
  {
   "cell_type": "code",
   "execution_count": null,
   "id": "c520c3a0",
   "metadata": {},
   "outputs": [],
   "source": []
  }
 ],
 "metadata": {
  "kernelspec": {
   "display_name": "Python [conda env:py_3.9]",
   "language": "python",
   "name": "conda-env-py_3.9-py"
  },
  "language_info": {
   "codemirror_mode": {
    "name": "ipython",
    "version": 3
   },
   "file_extension": ".py",
   "mimetype": "text/x-python",
   "name": "python",
   "nbconvert_exporter": "python",
   "pygments_lexer": "ipython3",
   "version": "3.9.19"
  }
 },
 "nbformat": 4,
 "nbformat_minor": 5
}
